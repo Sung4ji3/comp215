{
  "nbformat": 4,
  "nbformat_minor": 0,
  "metadata": {
    "colab": {
      "provenance": [],
      "include_colab_link": true
    },
    "kernelspec": {
      "name": "python3",
      "display_name": "Python 3"
    },
    "language_info": {
      "name": "python"
    }
  },
  "cells": [
    {
      "cell_type": "markdown",
      "metadata": {
        "id": "view-in-github",
        "colab_type": "text"
      },
      "source": [
        "<a href=\"https://colab.research.google.com/github/Sung4ji3/comp215/blob/main/labs/lab05_scaling.ipynb\" target=\"_parent\"><img src=\"https://colab.research.google.com/assets/colab-badge.svg\" alt=\"Open In Colab\"/></a>"
      ]
    },
    {
      "cell_type": "markdown",
      "source": [
        "COMP 215 - LAB 5\n",
        "----------------\n",
        "#### Name(s): Marcus Leung\n",
        "#### Date:\n",
        "\n",
        "By the end of this lab you should be able to:\n",
        "  * apply both a direct (ie. brute force) and heuristic algorithm to a problem\n",
        "  * use the networkx module to visualize graphs\n",
        "  * measure algorithm scaling\n",
        "\n",
        "\n",
        "During this lab, you will be introduced to the following:\n",
        "  * seeding the random module\n",
        "\n"
      ],
      "metadata": {
        "id": "maj2ZJihN_mq"
      }
    },
    {
      "cell_type": "markdown",
      "source": [
        "## The Traveling Salesperson Problem\n",
        "\n",
        "This lab is based on the famous Traveling Salesperson Problem (TSP) outlined in Section 3.3.2 of 'On Complexity'.  Imagine you needed to travel to ten different cities.  What is the sortest possible route you could take to visit every city?  For our version of the problem, you start from a specific city and must end on the same city.\n",
        "\n",
        "In this lab, you will implement a direct (ie. brute force) and a heuristic solution to the problem."
      ],
      "metadata": {
        "id": "bXq2viKmFY-h"
      }
    },
    {
      "cell_type": "code",
      "source": [
        "# start with some imports\n",
        "import random, math, time, itertools\n",
        "import networkx as nx\n",
        "import matplotlib.pyplot as plt\n",
        "%matplotlib inline\n",
        "from pprint import pprint"
      ],
      "metadata": {
        "id": "XAr1Vf5HiC6N"
      },
      "execution_count": 1,
      "outputs": []
    },
    {
      "cell_type": "markdown",
      "source": [
        "## Set up the map\n",
        "\n",
        "For this implementation of the problem we will randomly place N cities on a 100 by 100 grid.  Cities will be labelled using a single character; 'A', 'B', 'C', etc.  City locations will be denoted by a 2-tuple, `(x,y)`, giving their position on the grid. In order to create reproducable maps, we will use [random.seed()](https://docs.python.org/3/library/random.html#random.seed) to initialize the random module.  "
      ],
      "metadata": {
        "id": "P69qc4NLXcHA"
      }
    },
    {
      "cell_type": "code",
      "source": [
        "def setup_map(N, seed=1):\n",
        "  ''' Returns a map of N cities with random locations on a 100 by 100 grid '''\n",
        "  random.seed(seed)\n",
        "  city_locations = [(random.randint(0, 100), random.randint(0, 100)) for i in range(N)]\n",
        "  city_names = [chr(65 + i) for i in range(N)]\n",
        "  city_map = dict(zip(city_names, city_locations))\n",
        "  return city_map\n",
        "\n",
        "def graph_map(city_map):\n",
        "  ''' graph the map of cities using networkx'''\n",
        "  G = nx.Graph()\n",
        "  G.add_nodes_from(city_map)\n",
        "  nx.draw(G, city_map, with_labels=True)\n",
        "\n",
        "def distance(city1, city2, city_map):\n",
        "  ''' Returns the distance between two cities on a map'''\n",
        "  x1, y1 = city_map[city1]\n",
        "  x2, y2 = city_map[city2]\n",
        "  return round(math.sqrt((x2 - x1)**2 + (y2 - y1)**2),1)\n",
        "\n",
        "def calculate_distances(city_map):\n",
        "  ''' Returns a dictionary with the distances between all pairs of cities in a map '''\n",
        "  distances = {}\n",
        "  for city1 in city_map:\n",
        "      for city2 in city_map:\n",
        "          if city1 != city2:\n",
        "              # this will have duplicate distances (A,B) and (B,A)\n",
        "              # these duplicates make the algorithm implememntation simpler\n",
        "              distances[(city1, city2)] = distance(city1, city2, city_map)\n",
        "  return distances\n"
      ],
      "metadata": {
        "id": "lHqZss26iNtY"
      },
      "execution_count": 2,
      "outputs": []
    },
    {
      "cell_type": "code",
      "source": [
        "# test our setup functions\n",
        "city_map = setup_map(5)\n",
        "print(f'City Map: {city_map}')\n",
        "distances = calculate_distances(city_map)\n",
        "print(f'Distances between cities: {distances}')\n",
        "graph_map(city_map)"
      ],
      "metadata": {
        "id": "d0ZFBtOPpU-P",
        "colab": {
          "base_uri": "https://localhost:8080/",
          "height": 571
        },
        "outputId": "4120ba87-4042-4433-f93a-a92db29f41b2"
      },
      "execution_count": 3,
      "outputs": [
        {
          "output_type": "stream",
          "name": "stdout",
          "text": [
            "City Map: {'A': (17, 72), 'B': (97, 8), 'C': (32, 15), 'D': (63, 97), 'E': (57, 60)}\n",
            "Distances between cities: {('A', 'B'): 102.4, ('A', 'C'): 58.9, ('A', 'D'): 52.4, ('A', 'E'): 41.8, ('B', 'A'): 102.4, ('B', 'C'): 65.4, ('B', 'D'): 95.3, ('B', 'E'): 65.6, ('C', 'A'): 58.9, ('C', 'B'): 65.4, ('C', 'D'): 87.7, ('C', 'E'): 51.5, ('D', 'A'): 52.4, ('D', 'B'): 95.3, ('D', 'C'): 87.7, ('D', 'E'): 37.5, ('E', 'A'): 41.8, ('E', 'B'): 65.6, ('E', 'C'): 51.5, ('E', 'D'): 37.5}\n"
          ]
        },
        {
          "output_type": "display_data",
          "data": {
            "text/plain": [
              "<Figure size 640x480 with 1 Axes>"
            ],
            "image/png": "[encoded data removed]"
          },
          "metadata": {}
        }
      ]
    },
    {
      "cell_type": "markdown",
      "source": [
        "### Exercise 1: The Brute Force Solution\n",
        "\n",
        "Implement a brute force solution to the traveling salesman problem using the city map and distance dictionary given above.  The algorithm for the brute force solution looks something like this:\n",
        " 1. Loop over every possible route that starts and ends on city A.  For a three city example, this would be ABCA, ACBA.  \n",
        " 2. Calculate the total distance of each possible route.  \n",
        " 3. Find the route with the minimum total distance.\n",
        "\n",
        "Before you start coding, think about what functions and/or class you might want to simplify your implementation of the algorithm.  Write a small test for your algorithm."
      ],
      "metadata": {
        "id": "L_clDiVgOXjT"
      }
    },
    {
      "cell_type": "code",
      "source": [
        "citynames = list(city_map.keys())\n",
        "unfilteredcombos = list(itertools.permutations(citynames))\n",
        "\n",
        "def brutetravel(homecity):\n",
        "  combosnohome = [combo for combo in unfilteredcombos if combo[0] == homecity]\n",
        "  sums = []\n",
        "  for combo in combosnohome:\n",
        "    sum = 0\n",
        "    n = 0\n",
        "    k = len(combo)\n",
        "    while n + 1 < k:\n",
        "      pair = (combo[n], combo[n+1])\n",
        "      sum += distances[pair]\n",
        "      n += 1\n",
        "    sum += distances[(combo[-1], homecity)]\n",
        "    sums.append(sum)\n",
        "  zipped = dict(zip(combosnohome, sums))\n",
        "  bestroutesum = min(sums)\n",
        "  bestroutenohome = next(filter(lambda combo: zipped[combo] == bestroutesum, combosnohome))\n",
        "  bestroute = [city for city in bestroutenohome]\n",
        "  bestroute.append(homecity)\n",
        "  return (bestroute, bestroutesum)\n",
        "\n",
        "print(brutetravel('A'))"
      ],
      "metadata": {
        "id": "nLmzZgjwECtJ",
        "colab": {
          "base_uri": "https://localhost:8080/"
        },
        "outputId": "8f2d9a9d-81f1-4d38-9b10-dec7916c4b3b"
      },
      "execution_count": 4,
      "outputs": [
        {
          "output_type": "stream",
          "name": "stdout",
          "text": [
            "(['A', 'C', 'B', 'E', 'D', 'A'], 279.8)\n"
          ]
        }
      ]
    },
    {
      "cell_type": "markdown",
      "source": [
        "### Exercise 2: Nearest Neighbour\n",
        "\n",
        "Implement a nearest neighbour solution to the traveling salesman problem using the city map and distance dictionary given above.  The algorithm for the nearest neighbour solution looks something like this:\n",
        " 1. Start from the starting city.  \n",
        " 2. Go to the nearest city that has not been visited.  \n",
        " 3. Repeat steps 1 and 2 until all cities have been visited.\n",
        "\n",
        "Before you start coding, think about what functions and/or class you might want to simplify your implementation of the algorithm.  Write a small test for your algorithm."
      ],
      "metadata": {
        "id": "JhIjwjq-Oa4F"
      }
    },
    {
      "cell_type": "code",
      "source": [
        "distkeys = distances.keys()\n",
        "\n",
        "def nearestnewcity(city, visited):\n",
        "  distkeysunfiltered = list(filter(lambda tup: tup[0] not in visited, distkeys))\n",
        "  distkeysfiltered = list(filter(lambda tup: tup[0] == city, distkeysunfiltered))\n",
        "  pprint(distkeysfiltered)\n",
        "  # dists = [distkeysfiltered[dist] for dist in distkeysfiltered]\n",
        "  # shortestdist = min(dists)\n",
        "  # shortestroute = next(filter(lambda key: distances[key] == shortestdist, distkeysfiltered))\n",
        "  # return shortestroute[0]\n",
        "\n",
        "def travelbynearest(homecity):\n",
        "  visited = [homecity]\n",
        "  start = nearestnewcity(homecity, visited)\n",
        "  totaldist = distances[(homecity, start)]\n",
        "  while  start != homecity:\n",
        "    start1 = start\n",
        "    start = nearestnewcity(start1, visited)\n",
        "    visited.append(start)\n",
        "    totaldist += distances[(start1, start)]\n",
        "  return (visited, totaldist)\n",
        "\n",
        "print(travelbynearest('A'))"
      ],
      "metadata": {
        "id": "jrsQQyMLEFZ2",
        "colab": {
          "base_uri": "https://localhost:8080/",
          "height": 315
        },
        "outputId": "9d1bf98d-3e12-4740-aa36-979c6c9c1127"
      },
      "execution_count": 10,
      "outputs": [
        {
          "output_type": "stream",
          "name": "stdout",
          "text": [
            "[]\n"
          ]
        },
        {
          "output_type": "error",
          "ename": "KeyError",
          "evalue": "('A', None)",
          "traceback": [
            "\u001b[0;31m---------------------------------------------------------------------------\u001b[0m",
            "\u001b[0;31mKeyError\u001b[0m                                  Traceback (most recent call last)",
            "\u001b[0;32m<ipython-input-10-e27f694e0fbb>\u001b[0m in \u001b[0;36m<cell line: 0>\u001b[0;34m()\u001b[0m\n\u001b[1;32m     21\u001b[0m   \u001b[0;32mreturn\u001b[0m \u001b[0;34m(\u001b[0m\u001b[0mvisited\u001b[0m\u001b[0;34m,\u001b[0m \u001b[0mtotaldist\u001b[0m\u001b[0;34m)\u001b[0m\u001b[0;34m\u001b[0m\u001b[0;34m\u001b[0m\u001b[0m\n\u001b[1;32m     22\u001b[0m \u001b[0;34m\u001b[0m\u001b[0m\n\u001b[0;32m---> 23\u001b[0;31m \u001b[0mprint\u001b[0m\u001b[0;34m(\u001b[0m\u001b[0mtravelbynearest\u001b[0m\u001b[0;34m(\u001b[0m\u001b[0;34m'A'\u001b[0m\u001b[0;34m)\u001b[0m\u001b[0;34m)\u001b[0m\u001b[0;34m\u001b[0m\u001b[0;34m\u001b[0m\u001b[0m\n\u001b[0m",
            "\u001b[0;32m<ipython-input-10-e27f694e0fbb>\u001b[0m in \u001b[0;36mtravelbynearest\u001b[0;34m(homecity)\u001b[0m\n\u001b[1;32m     13\u001b[0m   \u001b[0mvisited\u001b[0m \u001b[0;34m=\u001b[0m \u001b[0;34m[\u001b[0m\u001b[0mhomecity\u001b[0m\u001b[0;34m]\u001b[0m\u001b[0;34m\u001b[0m\u001b[0;34m\u001b[0m\u001b[0m\n\u001b[1;32m     14\u001b[0m   \u001b[0mstart\u001b[0m \u001b[0;34m=\u001b[0m \u001b[0mnearestnewcity\u001b[0m\u001b[0;34m(\u001b[0m\u001b[0mhomecity\u001b[0m\u001b[0;34m,\u001b[0m \u001b[0mvisited\u001b[0m\u001b[0;34m)\u001b[0m\u001b[0;34m\u001b[0m\u001b[0;34m\u001b[0m\u001b[0m\n\u001b[0;32m---> 15\u001b[0;31m   \u001b[0mtotaldist\u001b[0m \u001b[0;34m=\u001b[0m \u001b[0mdistances\u001b[0m\u001b[0;34m[\u001b[0m\u001b[0;34m(\u001b[0m\u001b[0mhomecity\u001b[0m\u001b[0;34m,\u001b[0m \u001b[0mstart\u001b[0m\u001b[0;34m)\u001b[0m\u001b[0;34m]\u001b[0m\u001b[0;34m\u001b[0m\u001b[0;34m\u001b[0m\u001b[0m\n\u001b[0m\u001b[1;32m     16\u001b[0m   \u001b[0;32mwhile\u001b[0m  \u001b[0mstart\u001b[0m \u001b[0;34m!=\u001b[0m \u001b[0mhomecity\u001b[0m\u001b[0;34m:\u001b[0m\u001b[0;34m\u001b[0m\u001b[0;34m\u001b[0m\u001b[0m\n\u001b[1;32m     17\u001b[0m     \u001b[0mstart1\u001b[0m \u001b[0;34m=\u001b[0m \u001b[0mstart\u001b[0m\u001b[0;34m\u001b[0m\u001b[0;34m\u001b[0m\u001b[0m\n",
            "\u001b[0;31mKeyError\u001b[0m: ('A', None)"
          ]
        }
      ]
    },
    {
      "cell_type": "markdown",
      "source": [
        "### Exercise 3: Graph the Routes\n",
        "\n",
        "Use the networkx module to create directed graphs of the routes (brute force and nearest neighbour).  Include the distances between the cities on the edges.  Run several different map setups with a different sizes (ie. number of cities).  Do the brute force (ie. direct) and nearest neighbour (ie. heuristic) algorithms always give the same solution?  Do you notice anything about the brute force solutions that suggests an alternative heuristic algorithm?\n"
      ],
      "metadata": {
        "id": "RzeiY9dFpBAC"
      }
    },
    {
      "cell_type": "code",
      "source": [
        "# Ex.3 your code here"
      ],
      "metadata": {
        "id": "U9NFv5PkEKO4"
      },
      "execution_count": null,
      "outputs": []
    },
    {
      "cell_type": "markdown",
      "source": [
        "### Exercise 4: Algorithm Scaling\n",
        "\n",
        "Use the `time` module to measure the running time of the two algorithms.  Note that the `time.time()` function returns the current time, so calling it before and after the algorithm has run can give you the time it takes for the algorithm to execute.  Taking the average over several trials will make the measurement more precise.  Demonstrate the scaling nature of the algorithms by plotting their execution time as a function of N, up to about N = 10.  "
      ],
      "metadata": {
        "id": "HD2PiYXQV48y"
      }
    },
    {
      "cell_type": "code",
      "source": [
        "# Ex 4: your code here"
      ],
      "metadata": {
        "id": "DBpuwJ5SSNJB"
      },
      "execution_count": null,
      "outputs": []
    }
  ]
}