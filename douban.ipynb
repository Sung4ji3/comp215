{
  "nbformat": 4,
  "nbformat_minor": 0,
  "metadata": {
    "colab": {
      "provenance": [],
      "authorship_tag": "ABX9TyPZuYCs+vkg9HEdSmbaegDW",
      "include_colab_link": true
    },
    "kernelspec": {
      "name": "python3",
      "display_name": "Python 3"
    },
    "language_info": {
      "name": "python"
    }
  },
  "cells": [
    {
      "cell_type": "markdown",
      "metadata": {
        "id": "view-in-github",
        "colab_type": "text"
      },
      "source": [
        "<a href=\"https://colab.research.google.com/github/Sung4ji3/comp215/blob/main/douban.ipynb\" target=\"_parent\"><img src=\"https://colab.research.google.com/assets/colab-badge.svg\" alt=\"Open In Colab\"/></a>"
      ]
    },
    {
      "cell_type": "code",
      "source": [
        "!pip install MechanicalSoup"
      ],
      "metadata": {
        "id": "IhWF1go5PBbZ",
        "outputId": "b3eba904-3eb9-4406-a508-76ce6abcecfd",
        "colab": {
          "base_uri": "https://localhost:8080/"
        }
      },
      "execution_count": null,
      "outputs": [
        {
          "output_type": "stream",
          "name": "stdout",
          "text": [
            "Collecting MechanicalSoup\n",
            "  Downloading MechanicalSoup-1.3.0-py3-none-any.whl.metadata (6.0 kB)\n",
            "Requirement already satisfied: requests>=2.22.0 in /usr/local/lib/python3.11/dist-packages (from MechanicalSoup) (2.32.3)\n",
            "Requirement already satisfied: beautifulsoup4>=4.7 in /usr/local/lib/python3.11/dist-packages (from MechanicalSoup) (4.13.3)\n",
            "Requirement already satisfied: lxml in /usr/local/lib/python3.11/dist-packages (from MechanicalSoup) (5.3.1)\n",
            "Requirement already satisfied: soupsieve>1.2 in /usr/local/lib/python3.11/dist-packages (from beautifulsoup4>=4.7->MechanicalSoup) (2.6)\n",
            "Requirement already satisfied: typing-extensions>=4.0.0 in /usr/local/lib/python3.11/dist-packages (from beautifulsoup4>=4.7->MechanicalSoup) (4.13.1)\n",
            "Requirement already satisfied: charset-normalizer<4,>=2 in /usr/local/lib/python3.11/dist-packages (from requests>=2.22.0->MechanicalSoup) (3.4.1)\n",
            "Requirement already satisfied: idna<4,>=2.5 in /usr/local/lib/python3.11/dist-packages (from requests>=2.22.0->MechanicalSoup) (3.10)\n",
            "Requirement already satisfied: urllib3<3,>=1.21.1 in /usr/local/lib/python3.11/dist-packages (from requests>=2.22.0->MechanicalSoup) (2.3.0)\n",
            "Requirement already satisfied: certifi>=2017.4.17 in /usr/local/lib/python3.11/dist-packages (from requests>=2.22.0->MechanicalSoup) (2025.1.31)\n",
            "Downloading MechanicalSoup-1.3.0-py3-none-any.whl (19 kB)\n",
            "Installing collected packages: MechanicalSoup\n",
            "Successfully installed MechanicalSoup-1.3.0\n"
          ]
        }
      ]
    },
    {
      "cell_type": "code",
      "execution_count": null,
      "metadata": {
        "id": "sNtydHYmFjVY",
        "outputId": "41046092-0dfa-46ae-dfc4-68448835c831",
        "colab": {
          "base_uri": "https://localhost:8080/"
        }
      },
      "outputs": [
        {
          "output_type": "error",
          "ename": "SyntaxError",
          "evalue": "invalid character '、' (U+3001) (<ipython-input-4-59bc0b4d3be1>, line 108)",
          "traceback": [
            "\u001b[0;36m  File \u001b[0;32m\"<ipython-input-4-59bc0b4d3be1>\"\u001b[0;36m, line \u001b[0;32m108\u001b[0m\n\u001b[0;31m    'race & ethnicity':('种族'、'种族化'、'种族主义'、'种族主义者'、'民族性'、'民族'、'民族学'、'仇外心理'、'种族隔离'、'隔离'、'殖民主义'、'殖民主义者'、'殖民化'、'非殖民化'、'下属'),\u001b[0m\n\u001b[0m                            ^\u001b[0m\n\u001b[0;31mSyntaxError\u001b[0m\u001b[0;31m:\u001b[0m invalid character '、' (U+3001)\n"
          ]
        }
      ],
      "source": [
        "\"\"\"\n",
        "-To a general degree, How different is the sociological knowledge of western readers different from Chinese readers?\n",
        "  -Knowing what subjects in sociology western and chinese readership are most interested in, what differences are there between their most common interests?\n",
        "  -How are the ratings by western and chinese readers for the same popular sociological works of the west and of china compare?\n",
        "  (-To what degree are the most popular sociological books in china are available in the west (and vice versa)?)\n",
        "\"\"\"\n",
        "from html.parser import HTMLParser\n",
        "from bs4 import beautifulsoup\n",
        "import mechanicalsoup\n",
        "\n",
        "browser = mechanicalsoup.StatefulBrowser()\n",
        "browser.open('https://book.douban.com/tag/%E7%A4%BE%E4%BC%9A%E5%AD%A6')\n",
        "db_tagpage = browser.page\n",
        "\n",
        "print(db_tagpage.prettify)\n",
        "\n",
        "\n",
        "#https://www.librarything.com/tag/sociology\n",
        "#https://www.goodreads.com/\n",
        "\n",
        "from dataclasses import dataclass\n",
        "\n",
        "@dataclass\n",
        "class book:\n",
        "\n",
        "  title: str\n",
        "  author: str\n",
        "  ISBN10digit: str\n",
        "  ISBN13digit: str\n",
        "  genres: tuple\n",
        "\n",
        "  raters: int\n",
        "  rating: float\n",
        "\n",
        "\n",
        "\n",
        "\"\"\"\n",
        "For both sites: for each book in the sociology category, sorted by most to least popular:\n",
        "\n",
        "1. grab the number of ratings (indicating interest)\n",
        "2. grab rating score (indicating popularity)\n",
        "\"\"\"\n",
        "\n",
        "\n",
        "\"\"\"\n",
        "douban:\n",
        "\n",
        "  1. go through each entry top to bottom\n",
        "    1. grab data\n",
        "  2. click to next page\n",
        "  3. repeat until page with no results\n",
        "\"\"\"\n",
        "\n",
        "\n",
        "\"\"\"\n",
        "libarything to goodreads:\n",
        "\n",
        "  1. In librarything, click on entry from top left to right bottom\n",
        "    1. in goodreads, find equivalent entry of librarything entry\n",
        "    2. grab data\n",
        "  2. click next\n",
        "  3. repeat until no entry to click on\n",
        "\n",
        "\"\"\"\n",
        "\n",
        "\"\"\"\n",
        "douban/goodreads book descriptions:\n",
        "find keywords that fall within a subject (e.g. \"marketing\" falls under \"business\", \"behavior\" falls under \"psychology\")\n",
        "\"\"\"\n",
        "\n",
        "\n",
        "\"\"\"\n",
        "find differences:\n",
        "count how many matches between both datasets\n",
        "  divide the common books by the entire datasets to find how much of the datasets have unique differences\n",
        "  find difference in ratings of common books between datasets:\n",
        "    db: r/10\n",
        "    gr: r/5\n",
        "    find the mean of both sets of ratings and compare difference\n",
        "    find how many ratings were given in comparison\n",
        "  compare difference of occurences of genrekeys\n",
        "\n",
        "\"\"\"\n",
        "\n",
        "\n",
        "\n",
        "\n",
        "\n",
        "genrekeys_en = {\n",
        "  'race & ethnicity': ('race', 'racial', 'racialized', 'racism', 'racist', 'ethnicity', 'ethnic', 'ethnology', 'ethnologic', 'ethnological', 'xenophobia', 'xenophobic', 'segregational', 'segregation', 'segregate', 'segregated', 'colonialism', 'colonialist', 'colonial', 'colonization', 'colonized', 'decolonized', 'decolonization', 'decolonial', 'subaltern'),\n",
        "\n",
        "  'psychology': ('psychology', 'psychological', 'psychiatry', 'psychologist', 'psychiatrist', 'psychiatric', 'behavior', 'behaviors','mental', 'mentally'),\n",
        "\n",
        "  'media & art': ('media', 'art', 'arts', 'architecture', 'architect', 'architects', 'architectural', 'graphic design', 'designer', 'designers', 'artist', 'artists', 'artistic', 'artisinal', 'artisan', 'artisans', 'sculpture', 'film', 'films', 'movie', 'movies', 'cinema', 'music', 'musical', 'theater', 'theatre', 'theatrical', 'radio', 'broadcast', 'broadcasting', 'broadcasts', 'television', 'TV', 'video', 'videos', 'painting', 'paintings', 'painter', 'painters', 'platform', 'communication', 'literature', 'newspaper', 'internet', 'entertainment'),\n",
        "\n",
        "  'economics': ('economic', 'economics', 'economist', 'economists', 'economy', 'economies', 'socioeconomic', 'finance', 'financial', 'money', 'trade', 'market', 'marketing', 'advertising', 'business', 'currency', 'currencies', 'corporate', 'corporation', 'debt', 'poverty', 'impoverished', 'wealth', 'wealthy', 'microeconomic', 'microeconomics','macroeconomic', 'macroeconomics', 'worker', 'workers', 'jobs', 'employment', 'employee', 'employees', 'labor', 'union', 'unions', 'unionize', 'unionized', 'unionization', 'consume', 'consumption', 'consumerism', 'production', 'industry', 'industrial', 'industrialize', 'industrialized', 'industrializaton', 'industries'),\n",
        "\n",
        "  'gender & sexuality': ('gender', 'gendering', 'sexism', 'sexist', 'sexualization', 'sexuality', 'sex', 'heterosexuality', 'heterosexuality', 'misogyny', 'misogynistic', 'feminism', 'feminist', 'gendering', 'cisgender', 'masculine', 'male', 'man', 'boy', 'feminine', 'female', 'woman', 'girl', 'transgender', 'non-binary', 'nonbinary', 'queer', 'homosexual', 'homosexuality', 'gay', 'lesbian', 'bisexual', 'bisexuality', 'homophobia', 'homophobic', 'transphobia', 'transphobic'),\n",
        "\n",
        "  'politics': ('politics', 'political', 'politician', 'politicians', 'policy', 'policies', 'ideology', 'ideological', 'inequality', 'equality', 'equity', 'equitable', 'minister', 'administration', 'administrative', 'administrator', 'administrators', 'leader', 'leaders', 'leadership', 'president', 'presidency', 'management', 'state', 'country', 'privatize', 'privatized', 'privatization', 'national', 'nationality', 'nationalism', 'nationalization', 'nationalize', 'nationalized', 'international', 'internationalize', 'internationalized', 'transnational', 'transnationalize','transnationalized', 'globalism', 'globalization', 'globalize', 'globalized', 'government', 'governance', 'law', 'laws', 'legislature', 'legislations', 'legislation', 'regulation', 'democracy', 'democratic', 'freedom', 'disadvantaged', 'marginalized', 'marginalization', 'oppression', 'oppressed', 'war', 'wars', 'military', 'militaries', 'militant', 'surveillance', 'security', 'advocacy', 'protest', 'protests', 'protesting', 'solidarity', 'activism', 'activist', 'climate', 'environment', 'environmental', 'warming', 'disaster'),\n",
        "\n",
        "  'history': ('history', 'historical', 'historic', 'historian', 'historians', 'historicity', 'historicize', 'ahistoric', 'century', 'centuries', 'archaeology', 'archaeologic', 'archaeological', 'historiography' 'historiographic, historiographic'),\n",
        "\n",
        "  'culture': ('culture', 'cultures', 'cultural', 'subculture', 'subcultures', 'ethnography', 'ethnographic', 'religion', 'religions', 'religious', 'ritual', 'rituals', 'community', 'communities')\n",
        "}\n",
        "\n",
        "genrekeys_cn = {\n",
        "  'race & ethnicity':('种族','种族化','种族主义','种族主义者','民族性','民族','民族学','仇外心理','种族隔离','隔离','殖民主义','殖民主义者','殖民化','非殖民化','下属'),\n",
        "\n",
        "  'psychology':('心理学','心理','精神病学','心理学家','精神病学家','精神病的','行为','精神','精神上'),\n",
        "\n",
        "  'media & art':('媒体','艺术','建筑','建筑师','建筑','平面设计','设计师','艺术家','艺术的','手工的','工匠','雕塑','电影','音乐','音乐剧','剧院','戏剧','广播','电视','视频' '绘画', '画家', '画家们', '平台', '传播', '文学', '报纸', '网络', '娱乐'),\n",
        "\n",
        "  'economics':('经济','经济学','经济学家','经济','社会经济','金融','金钱','贸易','市场','营销','广告','商业','货币','企业','公司','债务','贫困','财富','富裕','微观经济','宏观经济','工人','工作','就业','雇员','劳工','工会','工会化','工会化','消费','消费主义','生产','工业','工业化'),\n",
        "\n",
        "  'gender & sexuality':('性别','性别化','性别歧视','性别歧视者','性化','性取向','性别','异性恋','厌女症','女权主义者','性别化','顺性别','男人','男孩','女性化','女人','女孩','跨性别者','非二元性别者','酷儿','同性恋','男同性恋','女同性恋','双性恋','恐同','跨性别恐惧症'),\n",
        "\n",
        "  'politics':('政治','政治家','政策','意识形态','不平等','平等','公平','部长','行政','管理员','领导者','领导力','总统','总统职位','管理','国家','私有化','国家','国籍','民族主义','国有化','国际', '国际化', '跨国', '跨国化', '全球主义', '全球化', '全球化', '政府', '治理', '法律', '立法机关', '立法', '监管', '民主', '民主的', '自由', '弱势群体','边缘化','压迫', '被压迫','战争','军事','军队','好战','监视','安全','倡导','抗议','团结','行动主义','活动家','气候','环境','环境的','变暖','灾难'),\n",
        "\n",
        "  'history':('历史','历史的','历史学家','历史化','非历史的','世纪','考古学','史学'),\n",
        "\n",
        "  'culture':('文化','亚文化','民族志','宗教','仪式','社区')\n",
        "}"
      ]
    }
  ]
}